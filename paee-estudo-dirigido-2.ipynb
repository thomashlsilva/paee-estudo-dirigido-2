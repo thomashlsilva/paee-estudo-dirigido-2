{
 "cells": [
  {
   "cell_type": "markdown",
   "id": "13362235-2139-4811-a3ce-94647f550c0f",
   "metadata": {},
   "source": [
    "# Disciplina: Planejamento e Análise Estatística de Experimentos\n",
    "\n",
    "## Estudo Dirigido 2\n",
    "\n",
    "### 1. Introdução\n",
    "\n",
    "Neste estudo dirigido vamos usar os pacotes no R:\n",
    "- ggplot2\n",
    "- ggpubr\n",
    "- tidyverse\n",
    "- broom\n",
    "- AICcmodavg\n",
    "Para instalar estes pacontes use o comando:"
   ]
  },
  {
   "cell_type": "code",
   "execution_count": 1,
   "id": "3922eaa8-9c79-4dd7-adae-7c67bd884e3e",
   "metadata": {},
   "outputs": [
    {
     "name": "stderr",
     "output_type": "stream",
     "text": [
      "Installing packages into 'C:/Users/actdigital/AppData/Local/R/win-library/4.5'\n",
      "(as 'lib' is unspecified)\n",
      "\n"
     ]
    },
    {
     "name": "stdout",
     "output_type": "stream",
     "text": [
      "package 'ggplot2' successfully unpacked and MD5 sums checked\n",
      "package 'ggpubr' successfully unpacked and MD5 sums checked\n",
      "package 'tidyverse' successfully unpacked and MD5 sums checked\n",
      "package 'broom' successfully unpacked and MD5 sums checked\n",
      "package 'AICcmodavg' successfully unpacked and MD5 sums checked\n",
      "\n",
      "The downloaded binary packages are in\n",
      "\tC:\\Users\\actdigital\\AppData\\Local\\Temp\\Rtmp6p8x3U\\downloaded_packages\n"
     ]
    }
   ],
   "source": [
    "install.packages(c(\"ggplot2\",\"ggpubr\",\"tidyverse\",\"broom\",\"AICcmodavg\"))"
   ]
  },
  {
   "cell_type": "markdown",
   "id": "74db07aa-04e0-454c-a54f-2ef9d94a9e72",
   "metadata": {},
   "source": [
    "Carregue os pacotes usando:"
   ]
  },
  {
   "cell_type": "code",
   "execution_count": 2,
   "id": "8515cad2-9f49-4340-8de8-e0e9116b2551",
   "metadata": {},
   "outputs": [
    {
     "name": "stderr",
     "output_type": "stream",
     "text": [
      "── \u001b[1mAttaching core tidyverse packages\u001b[22m ────────────────────────────────── tidyverse 2.0.0 ──\n",
      "\u001b[32m✔\u001b[39m \u001b[34mdplyr    \u001b[39m 1.1.4     \u001b[32m✔\u001b[39m \u001b[34mreadr    \u001b[39m 2.1.5\n",
      "\u001b[32m✔\u001b[39m \u001b[34mforcats  \u001b[39m 1.0.0     \u001b[32m✔\u001b[39m \u001b[34mstringr  \u001b[39m 1.5.1\n",
      "\u001b[32m✔\u001b[39m \u001b[34mlubridate\u001b[39m 1.9.4     \u001b[32m✔\u001b[39m \u001b[34mtibble   \u001b[39m 3.2.1\n",
      "\u001b[32m✔\u001b[39m \u001b[34mpurrr    \u001b[39m 1.0.4     \u001b[32m✔\u001b[39m \u001b[34mtidyr    \u001b[39m 1.3.1\n",
      "── \u001b[1mConflicts\u001b[22m ──────────────────────────────────────────────────── tidyverse_conflicts() ──\n",
      "\u001b[31m✖\u001b[39m \u001b[34mdplyr\u001b[39m::\u001b[32mfilter()\u001b[39m masks \u001b[34mstats\u001b[39m::filter()\n",
      "\u001b[31m✖\u001b[39m \u001b[34mdplyr\u001b[39m::\u001b[32mlag()\u001b[39m    masks \u001b[34mstats\u001b[39m::lag()\n",
      "\u001b[36mℹ\u001b[39m Use the conflicted package (\u001b[3m\u001b[34m<http://conflicted.r-lib.org/>\u001b[39m\u001b[23m) to force all conflicts to become errors\n"
     ]
    }
   ],
   "source": [
    "library(ggplot2)\n",
    "library(ggpubr)\n",
    "library(tidyverse)\n",
    "library(broom)\n",
    "library(AICcmodavg)"
   ]
  },
  {
   "cell_type": "markdown",
   "id": "26effa4b-9cd9-4c5a-8598-1d0c13924764",
   "metadata": {},
   "source": [
    "Agora vamos ler dados gerados para este exemplo.\n",
    "\n",
    "É comum que os fatores sejam lidos como variáveis quantitativas ao importar um conjunto de dados para o R. Para evitar isso, você pode usar o comando `read.csv()` para ler os dados, especificando no comando se cada uma das variáveis deve ser quantitativa (\"numeric\") ou categórico (\"factor\").\n",
    "\n",
    "Use o código a seguir, substituindo o texto do `caminho/para/seu/arquivo` pelo caminho real do seu\n",
    "arquivo:"
   ]
  },
  {
   "cell_type": "code",
   "execution_count": 3,
   "id": "071e402a-041f-42ca-a328-7b9943b8e172",
   "metadata": {},
   "outputs": [],
   "source": [
    "crop.data <- read.csv(\"C:/Users/actdigital/paee-estudo-dirigido-2/crop.data.csv\",\n",
    "                      header = TRUE, colClasses = c(\"factor\", \"factor\", \"factor\", \"numeric\"))"
   ]
  },
  {
   "cell_type": "markdown",
   "id": "b2f4f3b8-0f39-44e0-9d18-2d1eeee261e8",
   "metadata": {},
   "source": [
    "### 2. ANOVA\n",
    "\n",
    "Podemos realizar uma ANOVA em R usando a função `aov()`. Isso irá calcular a estatística do teste para ANOVA e determinar se há variação significativa entre os grupos formados pelos níveis da variável independente.\n",
    "\n",
    "#### 2.1 ANOVA a um fator\n",
    "No exemplo de ANOVA unidirecional, estamos modelando o rendimento da cultura em função do tipo de fertilizante usado. Primeiro, usaremos `aov()` para executar o modelo, depois usaremos `summary()` para imprimir o resumo do modelo."
   ]
  },
  {
   "cell_type": "code",
   "execution_count": 4,
   "id": "6a2d01e0-5cef-49a4-a53f-a399bfef2d5f",
   "metadata": {},
   "outputs": [
    {
     "data": {
      "text/plain": [
       "            Df Sum Sq Mean Sq F value Pr(>F)    \n",
       "fertilizer   2   6.07  3.0340   7.863  7e-04 ***\n",
       "Residuals   93  35.89  0.3859                   \n",
       "---\n",
       "Signif. codes:  0 '***' 0.001 '**' 0.01 '*' 0.05 '.' 0.1 ' ' 1"
      ]
     },
     "metadata": {},
     "output_type": "display_data"
    }
   ],
   "source": [
    "one.way <- aov(yield ~ fertilizer, data = crop.data)\n",
    "summary(one.way)"
   ]
  },
  {
   "cell_type": "markdown",
   "id": "ddb65c67-d07a-4ec6-bec8-c19271f32a7a",
   "metadata": {},
   "source": [
    "O resumo do modelo lista as variáveis independentes que estão sendo testadas no modelo (neste caso, temos apenas uma, `fertilizer`) e os resíduos do modelo (`Residual`).\n",
    "\n",
    "O restante dos valores na tabela de saída descrevem a variável independente e os resíduos:\n",
    "\n",
    "- **A coluna `Df`** exibe os graus de liberdade para:\n",
    "  - A variável independente (o número de níveis na variável menos 1)\n",
    "  - Os graus de liberdade para os resíduos (o número total de observações menos um e menos o número de níveis nas variáveis independentes)\n",
    "\n",
    "- **A coluna `Sum Sq`** exibe a soma dos quadrados (ou seja, a variação total entre as médias do grupo e a média geral)\n",
    "\n",
    "- **A coluna `Mean Sq`** é a média da soma dos quadrados, calculada dividindo a soma dos quadrados pelos graus de liberdade de cada parâmetro\n",
    "\n",
    "- **A coluna `F-value`** é a estatística de teste do teste F. Este é o quadrado médio de cada variável independente dividido pelo quadrado médio dos resíduos. Quanto maior o valor de F, mais provável é que a variação causada pela variável independente seja real e não por acaso\n",
    "\n",
    "- **A coluna `Pr(>F)`** é o valor p da estatística F. Isso mostra quão provável é que o valor F calculado a partir do teste teria ocorrido se a hipótese nula de nenhuma diferença entre as médias dos grupos fosse verdadeira\n",
    "\n",
    "O valor de p da variável fertilizante é baixo (p < 0,001), portanto, parece que o tipo de fertilizante utilizado tem um impacto real na produtividade final da cultura.\n",
    "\n",
    "#### 2.2 ANOVA a dois fatores\n",
    "\n",
    "No exemplo de ANOVA de dois fatores, estamos modelando o rendimento da cultura em função do tipo de fertilizante e da densidade de plantio. Primeiro usamos `aov()` para executar o modelo, depois usamos `summary()` para imprimir o resumo do modelo."
   ]
  },
  {
   "cell_type": "code",
   "execution_count": 5,
   "id": "59198069-a018-4edd-88ca-78bd3faf42f1",
   "metadata": {},
   "outputs": [
    {
     "data": {
      "text/plain": [
       "            Df Sum Sq Mean Sq F value   Pr(>F)    \n",
       "fertilizer   2  6.068   3.034   9.073 0.000253 ***\n",
       "density      1  5.122   5.122  15.316 0.000174 ***\n",
       "Residuals   92 30.765   0.334                     \n",
       "---\n",
       "Signif. codes:  0 '***' 0.001 '**' 0.01 '*' 0.05 '.' 0.1 ' ' 1"
      ]
     },
     "metadata": {},
     "output_type": "display_data"
    }
   ],
   "source": [
    "two.way <- aov(yield ~ fertilizer + density, data = crop.data)\n",
    "summary(two.way)"
   ]
  },
  {
   "cell_type": "markdown",
   "id": "7029cfd7-c519-4731-92fd-53d0b0ce47f2",
   "metadata": {},
   "source": [
    "##### 2.2.1 Adicionando interações entre variáveis  \n",
    "\n",
    "Às vezes, você tem motivos para acreditar que duas de suas variáveis independentes têm um **efeito de interação** (não apenas um efeito aditivo).  \n",
    "\n",
    "Por exemplo, em nosso experimento de colheita, é possível que a **densidade de plantio** afete a capacidade das plantas de absorver fertilizantes. Isso pode influenciar o efeito do tipo de fertilizante de uma forma que não é contabilizada no modelo de duas vias.  \n",
    "\n",
    "Para testar se duas variáveis têm um efeito de interação na ANOVA, basta usar um **asterisco (`*`)** em vez de um **sinal de mais (`+`)** no modelo:"
   ]
  },
  {
   "cell_type": "code",
   "execution_count": 6,
   "id": "b49e21c4-2aae-4f0e-bde4-55261644b598",
   "metadata": {},
   "outputs": [
    {
     "data": {
      "text/plain": [
       "                   Df Sum Sq Mean Sq F value   Pr(>F)    \n",
       "fertilizer          2  6.068   3.034   9.001 0.000273 ***\n",
       "density             1  5.122   5.122  15.195 0.000186 ***\n",
       "fertilizer:density  2  0.428   0.214   0.635 0.532500    \n",
       "Residuals          90 30.337   0.337                     \n",
       "---\n",
       "Signif. codes:  0 '***' 0.001 '**' 0.01 '*' 0.05 '.' 0.1 ' ' 1"
      ]
     },
     "metadata": {},
     "output_type": "display_data"
    }
   ],
   "source": [
    "interaction <- aov(yield ~ fertilizer*density, data = crop.data)\n",
    "summary(interaction)"
   ]
  },
  {
   "cell_type": "markdown",
   "id": "2bb69b5f-b0df-401d-95fc-d998abfa7d39",
   "metadata": {},
   "source": [
    "Na tabela de saída, a variável `fertilizante:densidade` tem:  \n",
    "- Uma **soma de quadrados baixa**  \n",
    "- Um **valor-p alto**  \n",
    "\n",
    "Isso indica que **não há evidência significativa** de que a interação entre fertilizante e densidade afete o rendimento.\n",
    "\n",
    "---\n",
    "\n",
    "#### 2.3 Adicionando um Bloco  \n",
    "\n",
    "Se você agrupou seus tratamentos experimentais de alguma forma (ou se há uma **variável de confusão** que pode afetar a relação de interesse), você deve incluir essa variável como um **bloco** no modelo.  \n",
    "\n",
    "A maneira mais simples de fazer isso é adicionar a variável com um `+`. Por exemplo, em estudos de rendimento de culturas, os tratamentos são frequentemente aplicados em **blocos** (áreas do campo que podem diferir em:  \n",
    "- Textura do solo  \n",
    "- Umidade  \n",
    "- Exposição à luz solar  \n",
    "\n",
    "Para controlar essas diferenças, adicionamos o **termo de blocagem** ao modelo.  "
   ]
  },
  {
   "cell_type": "code",
   "execution_count": 7,
   "id": "28197231-d8a5-44ac-a808-454315549e6a",
   "metadata": {},
   "outputs": [
    {
     "data": {
      "text/plain": [
       "            Df Sum Sq Mean Sq F value   Pr(>F)    \n",
       "fertilizer   2  6.068   3.034   9.018 0.000269 ***\n",
       "density      1  5.122   5.122  15.224 0.000184 ***\n",
       "block        2  0.486   0.243   0.723 0.488329    \n",
       "Residuals   90 30.278   0.336                     \n",
       "---\n",
       "Signif. codes:  0 '***' 0.001 '**' 0.01 '*' 0.05 '.' 0.1 ' ' 1"
      ]
     },
     "metadata": {},
     "output_type": "display_data"
    }
   ],
   "source": [
    "blocking <- aov(yield ~ fertilizer + density + block, data = crop.data)\n",
    "summary(blocking)"
   ]
  },
  {
   "cell_type": "markdown",
   "id": "1b1e4a19-548c-4c93-b180-5dea8068969c",
   "metadata": {},
   "source": [
    "A variável `block` tem:\n",
    "- Um valor baixo de soma de quadrados (0.486)\n",
    "- Um valor p alto (p = 0.48)\n",
    "\n",
    "Isso indica que:\n",
    "1. Provavelmente não está adicionando informação relevante ao modelo\n",
    "2. Não altera a soma dos quadrados para as variáveis independentes\n",
    "3. Não afeta significativamente a variação explicada na variável dependente\n",
    "\n",
    "---\n",
    "\n",
    "#### 2.4 Encontrando o modelo mais adequado\n",
    "\n",
    "Atualmente temos quatro modelos ANOVA diferentes para explicar os dados. Como escolher o melhor?\n",
    "\n",
    "**Critérios para seleção do modelo**:\n",
    "O ideal é utilizar o modelo de **melhor ajuste** - aquele que melhor explica a variação na variável dependente.\n",
    "\n",
    "**Critério de Informação de Akaike (AIC)**:\n",
    "- Método robusto para avaliação de ajuste do modelo\n",
    "- Calcula o valor informacional de cada modelo balanceando:\n",
    "  - Variação explicada\n",
    "  - Número de parâmetros utilizados\n",
    "\n",
    "**Processo de seleção**:\n",
    "Na abordagem por AIC, comparamos o valor informacional de cada modelo para identificar:\n",
    "- O modelo com melhor relação entre explicação da variância e parcimônia\n",
    "- O equilíbrio ideal entre complexidade e poder explicativo"
   ]
  },
  {
   "cell_type": "code",
   "execution_count": 8,
   "id": "d19852d6-df76-4e09-aaca-fa6b1a2cb43b",
   "metadata": {},
   "outputs": [
    {
     "data": {
      "text/html": [
       "<table class=\"dataframe\">\n",
       "<caption>A aictab: 4 × 8</caption>\n",
       "<thead>\n",
       "\t<tr><th></th><th scope=col>Modnames</th><th scope=col>K</th><th scope=col>AICc</th><th scope=col>Delta_AICc</th><th scope=col>ModelLik</th><th scope=col>AICcWt</th><th scope=col>LL</th><th scope=col>Cum.Wt</th></tr>\n",
       "\t<tr><th></th><th scope=col>&lt;chr&gt;</th><th scope=col>&lt;dbl&gt;</th><th scope=col>&lt;dbl&gt;</th><th scope=col>&lt;dbl&gt;</th><th scope=col>&lt;dbl&gt;</th><th scope=col>&lt;dbl&gt;</th><th scope=col>&lt;dbl&gt;</th><th scope=col>&lt;dbl&gt;</th></tr>\n",
       "</thead>\n",
       "<tbody>\n",
       "\t<tr><th scope=row>2</th><td>two.way    </td><td>5</td><td>173.8562</td><td> 0.000000</td><td>1.000000000</td><td>0.70804078</td><td>-81.59474</td><td>0.7080408</td></tr>\n",
       "\t<tr><th scope=row>4</th><td>blocking   </td><td>7</td><td>176.9331</td><td> 3.076961</td><td>0.214707131</td><td>0.15202140</td><td>-80.83019</td><td>0.8600622</td></tr>\n",
       "\t<tr><th scope=row>3</th><td>interaction</td><td>7</td><td>177.1178</td><td> 3.261693</td><td>0.195763768</td><td>0.13860873</td><td>-80.92256</td><td>0.9986709</td></tr>\n",
       "\t<tr><th scope=row>1</th><td>one.way    </td><td>4</td><td>186.4122</td><td>12.556015</td><td>0.001877137</td><td>0.00132909</td><td>-88.98630</td><td>1.0000000</td></tr>\n",
       "</tbody>\n",
       "</table>\n"
      ],
      "text/latex": [
       "A aictab: 4 × 8\n",
       "\\begin{tabular}{r|llllllll}\n",
       "  & Modnames & K & AICc & Delta\\_AICc & ModelLik & AICcWt & LL & Cum.Wt\\\\\n",
       "  & <chr> & <dbl> & <dbl> & <dbl> & <dbl> & <dbl> & <dbl> & <dbl>\\\\\n",
       "\\hline\n",
       "\t2 & two.way     & 5 & 173.8562 &  0.000000 & 1.000000000 & 0.70804078 & -81.59474 & 0.7080408\\\\\n",
       "\t4 & blocking    & 7 & 176.9331 &  3.076961 & 0.214707131 & 0.15202140 & -80.83019 & 0.8600622\\\\\n",
       "\t3 & interaction & 7 & 177.1178 &  3.261693 & 0.195763768 & 0.13860873 & -80.92256 & 0.9986709\\\\\n",
       "\t1 & one.way     & 4 & 186.4122 & 12.556015 & 0.001877137 & 0.00132909 & -88.98630 & 1.0000000\\\\\n",
       "\\end{tabular}\n"
      ],
      "text/markdown": [
       "\n",
       "A aictab: 4 × 8\n",
       "\n",
       "| <!--/--> | Modnames &lt;chr&gt; | K &lt;dbl&gt; | AICc &lt;dbl&gt; | Delta_AICc &lt;dbl&gt; | ModelLik &lt;dbl&gt; | AICcWt &lt;dbl&gt; | LL &lt;dbl&gt; | Cum.Wt &lt;dbl&gt; |\n",
       "|---|---|---|---|---|---|---|---|---|\n",
       "| 2 | two.way     | 5 | 173.8562 |  0.000000 | 1.000000000 | 0.70804078 | -81.59474 | 0.7080408 |\n",
       "| 4 | blocking    | 7 | 176.9331 |  3.076961 | 0.214707131 | 0.15202140 | -80.83019 | 0.8600622 |\n",
       "| 3 | interaction | 7 | 177.1178 |  3.261693 | 0.195763768 | 0.13860873 | -80.92256 | 0.9986709 |\n",
       "| 1 | one.way     | 4 | 186.4122 | 12.556015 | 0.001877137 | 0.00132909 | -88.98630 | 1.0000000 |\n",
       "\n"
      ],
      "text/plain": [
       "  Modnames    K AICc     Delta_AICc ModelLik    AICcWt     LL        Cum.Wt   \n",
       "2 two.way     5 173.8562  0.000000  1.000000000 0.70804078 -81.59474 0.7080408\n",
       "4 blocking    7 176.9331  3.076961  0.214707131 0.15202140 -80.83019 0.8600622\n",
       "3 interaction 7 177.1178  3.261693  0.195763768 0.13860873 -80.92256 0.9986709\n",
       "1 one.way     4 186.4122 12.556015  0.001877137 0.00132909 -88.98630 1.0000000"
      ]
     },
     "metadata": {},
     "output_type": "display_data"
    }
   ],
   "source": [
    "library(AICcmodavg)\n",
    "model.set <- list(one.way, two.way, interaction, blocking)\n",
    "model.names <- c(\"one.way\", \"two.way\", \"interaction\", \"blocking\")\n",
    "aictab(model.set, modnames = model.names)"
   ]
  },
  {
   "cell_type": "markdown",
   "id": "26be8cf6-4cb7-439f-be49-0695366868bb",
   "metadata": {},
   "source": [
    "##### 2.4.1 Seleção do Modelo AIC\n",
    "\n",
    "A partir dos resultados obtidos:\n",
    "\n",
    "- O modelo **two.way** apresenta:\n",
    "  - Menor valor de AIC\n",
    "  - 71% do peso do AIC\n",
    "    - Isso indica que ele explica **71% da variação total** da variável dependente que pode ser explicada pelo conjunto completo de modelos\n",
    "\n",
    "- O modelo com termo de bloco:\n",
    "  - Contribui com adicional 15% do peso do AIC\n",
    "  - Porém, apresenta diferença > 2 delta-AIC em relação ao melhor modelo\n",
    "  - **Conclusão**: provavelmente não justifica sua inclusão nos resultados finais\n",
    "\n",
    "**Exercício Prático**\n",
    "1. Gere sua própria tabela `crop.data`\n",
    "2. Replique todos os passos analíticos descritos acima"
   ]
  },
  {
   "cell_type": "markdown",
   "id": "4e715390-f350-4f41-aa6b-bae5fe17e630",
   "metadata": {},
   "source": [
    "A tabela escolhida para refazer o estudo dirigido da ANOVA foram dados de publicidade em jornais locais disponível no \\textit{site}: \\href{https://college.cengage.com/mathematics/brase/understandable_statistics/7e/students/datasets/twan/frames/frame.html}{Cengage}. Sendo:\n",
    "\n",
    "\\begin{itemize}\n",
    "    \\item Resposta: número de consultas resultantes do anúncio;\n",
    "    \\item Fator de interesse: dia da semana (segunda a sexta);\n",
    "    \\item Demais variáveis: seção do jornal (notícias, negócios, esportes);\n",
    "    \\item Variável de confusão: semana da publicação, de 1 a 4.\n",
    "\\end{itemize}\n",
    "\n",
    "Nota-se que os níveis do fator de interesse devem ser cada dia da semana e do bloco devem ser cada semana do mês. Além disso, a variável dia da semana e o bloco semana são do tipo categóricas, e o restante são quantitativas. Segue o método passado na função \\texttt{read.csv()} do RStudio:"
   ]
  },
  {
   "cell_type": "code",
   "execution_count": null,
   "id": "86ae643c-08fc-4663-97f5-2a9f493d47f9",
   "metadata": {},
   "outputs": [],
   "source": [
    "crop.data <- read.csv(\"D:/Mestrado/Disciplinas_2022_1/PAEE/projetos_r/twan04.csv\",\n",
    "  header = TRUE, \n",
    "  colClasses = c(\"factor\", \"numeric\", \"numeric\", \"numeric\", \"numeric\"))"
   ]
  },
  {
   "cell_type": "markdown",
   "id": "6cbc8bd1-1b17-475d-ae5f-f7de8ceaad91",
   "metadata": {},
   "source": [
    "No exemplo da ANOVA unidirecional, foi modelado o número de consultas na seção notícias do jornal em função do dia da semana. A figura a seguir apresenta a resposta obtida:"
   ]
  },
  {
   "cell_type": "code",
   "execution_count": null,
   "id": "e90a1277-7639-4296-ab57-8e721e6b3818",
   "metadata": {},
   "outputs": [],
   "source": [
    "one.way <- aov(news ~ day, data = crop.data)\n",
    "summary(one.way)"
   ]
  },
  {
   "cell_type": "markdown",
   "id": "75267bbf-57fe-4004-ab7a-b188245c76ea",
   "metadata": {},
   "source": [
    "O valor de p da variável independente é baixo (p < 0,001), portanto, parece que o dia da semana do jornal tem um impacto real no número de consultas do anúncio na seção notícias.\n",
    "\n",
    "---\n",
    "\n",
    "No exemplo de ANOVA a dois fatores sem interação, foi modelado o número de consultas na seção notícias em função do dia da semana e da seção negócios do jornal. A figura a seguir apresenta a resposta obtida:"
   ]
  },
  {
   "cell_type": "code",
   "execution_count": null,
   "id": "b152c097-fd75-462c-b385-bb9b88e0e406",
   "metadata": {},
   "outputs": [],
   "source": [
    "two.way <- aov(news ~ day + business, data = crop.data)\n",
    "summary(two.way)"
   ]
  },
  {
   "cell_type": "markdown",
   "id": "e2852b2c-805f-4068-ab73-395671be93a3",
   "metadata": {},
   "source": [
    "O valor de p da variável independente seção negócios é alto (p = 0,46), então, nota-se que a seção negócios do jornal não possui impacto significativo no número de consultas do anúncio na seção notícias.\n",
    "\n",
    "Em nosso experimento de publicidade em jornais locais, é possível que a seção negócios afete as vendas do jornal em um específico dia da semana e, consequentemente, um menor número de consultas dos anúncios. Esse efeito pode não ser contabilizado no modelo de duas vias. \n",
    "\n",
    "Para testar se essas duas variáveis têm efeito de interação, foi modelado o número de consultas na seção notícias em função do dia da semana e da seção negócios do jornal. A figura a seguir apresenta a resposta obtida:"
   ]
  },
  {
   "cell_type": "code",
   "execution_count": null,
   "id": "20d737cd-51ed-4c8f-adea-6c0b34baaea6",
   "metadata": {},
   "outputs": [],
   "source": [
    "interaction <- aov(news ~ day*business, data = crop.data)\n",
    "summary(interaction)"
   ]
  },
  {
   "cell_type": "markdown",
   "id": "1f1cb407-462b-4a02-a751-18da3e1d421d",
   "metadata": {},
   "source": [
    "Na tabela de saída, a variável ‘day:business’ tem um valor de soma de quadrados baixo (13,04) e um valor p alto (0,161), o que significa que não há muita variação que possa ser explicada pela interação entre dia da semana e seção negócios do jornal.\n",
    "\n",
    "Os tratamentos experimentais foram agrupados em quatro blocos, isto é, divididos em quatro semanas do mês. Foi incluído este elemento no modelo e a resposta é apresentada na imagem a seguir:"
   ]
  },
  {
   "cell_type": "code",
   "execution_count": null,
   "id": "6a60d7c3-62c7-4871-a639-562550d401c6",
   "metadata": {},
   "outputs": [],
   "source": [
    "blocking <- aov(news ~ day + business + block, data = crop.data)\n",
    "summary(blocking)"
   ]
  },
  {
   "cell_type": "markdown",
   "id": "2af0e785-344b-4249-921c-fd990a094fc8",
   "metadata": {},
   "source": [
    "A variável ‘block’ tem um valor baixo de soma de quadrados (1,84) e um valor p alto (p = 0,364), então provavelmente não está adicionando muita informação ao modelo. Além disso, ao se comparar com os resultados anteriores, também não altera a soma dos quadrados para as duas variáveis independentes, o que significa que não afeta quanta variação na variável dependente elas explicam.\n",
    "\n",
    "Na seleção do modelo AIC, comparamos o valor da informação de cada modelo e escolhemos aquele com o menor valor AIC (um número menor significa mais informações explicadas). A imagem a seguir dispõe a tabela de saída:"
   ]
  },
  {
   "cell_type": "code",
   "execution_count": null,
   "id": "aaa2f9bb-344a-4c78-ae62-cb73baa05247",
   "metadata": {},
   "outputs": [],
   "source": [
    "library(AICcmodavg)\n",
    "model.set <- list(one.way, two.way, interaction, blocking)\n",
    "model.names <- c(\"one.way\", \"two.way\", \"interaction\", \"blocking\")\n",
    "aictab(model.set, modnames = model.names)"
   ]
  },
  {
   "cell_type": "markdown",
   "id": "cb2497ac-2741-4ba2-afcb-fdf85ec34ed1",
   "metadata": {},
   "source": [
    "A partir desses resultados conclui-se que o modelo 'one.way' é o mais adequado, porque apresentou o um valor nulo de AIC e 87\\% do peso do AIC. Ou seja, ele explica 87\\% da variação total da variável dependente que pode ser explicada pelo conjunto completo de modelos."
   ]
  },
  {
   "cell_type": "markdown",
   "id": "68eaad27-3e4a-4e17-89e3-c654fb864c20",
   "metadata": {},
   "source": [
    "### 3. Estatística Não Paramétrica\n",
    "Vamos começar criando uma população com distribuição assimétrica:"
   ]
  },
  {
   "cell_type": "code",
   "execution_count": 9,
   "id": "720e1014-3a86-4b52-b3b9-71ee9441c776",
   "metadata": {},
   "outputs": [
    {
     "data": {
      "image/png": "[encoded data removed]",
      "text/plain": [
       "Plot with title \"Histogram of x\""
      ]
     },
     "metadata": {
      "image/png": {
       "height": 420,
       "width": 420
      }
     },
     "output_type": "display_data"
    },
    {
     "data": {
      "image/png": "[encoded data removed]",
      "text/plain": [
       "Plot with title \"density(x = x)\""
      ]
     },
     "metadata": {
      "image/png": {
       "height": 420,
       "width": 420
      }
     },
     "output_type": "display_data"
    }
   ],
   "source": [
    "x=rgamma(1000000,2,0.5)\n",
    "hist(x)\n",
    "plot(density(x))"
   ]
  },
  {
   "cell_type": "markdown",
   "id": "33234234-8499-4d1c-ab4d-3c90ff76ac85",
   "metadata": {},
   "source": [
    "Vamos realizar uma amostragem de tamanho 30 desta população assimétrica:"
   ]
  },
  {
   "cell_type": "code",
   "execution_count": 10,
   "id": "ad6815bc-936b-40e5-84e4-1080425baabf",
   "metadata": {},
   "outputs": [
    {
     "data": {
      "image/png": "[encoded data removed]",
      "text/plain": [
       "Plot with title \"Histogram of y\""
      ]
     },
     "metadata": {
      "image/png": {
       "height": 420,
       "width": 420
      }
     },
     "output_type": "display_data"
    },
    {
     "data": {
      "image/png": "[encoded data removed]",
      "text/plain": [
       "Plot with title \"density(x = y)\""
      ]
     },
     "metadata": {
      "image/png": {
       "height": 420,
       "width": 420
      }
     },
     "output_type": "display_data"
    }
   ],
   "source": [
    "y=sample(x,30)\n",
    "hist(y)\n",
    "plot(density(y))\n",
    "abline(v=mean(x),pch=3,col=\"red\")"
   ]
  },
  {
   "cell_type": "markdown",
   "id": "5e48e7ac-15a4-402a-bd58-5d588a93a5fb",
   "metadata": {},
   "source": [
    "Verificando se a variável `y` segue distribuição normal\n",
    "\n",
    "**Hipóteses estatísticas:**\n",
    "- **H₀**: A amostra foi gerada de uma distribuição normal\n",
    "- **Hₐ**: A amostra não foi gerada de uma distribuição normal\n",
    "\n",
    "**Teste de Shapiro-Wilk** (α = 0.05):## 3.3 Simulação de Teste Paramétrico\n",
    "\n",
    "### Configuração do teste\n",
    "Seja `a = mean(x)`. Vamos realizar o seguinte teste paramétrico:\n",
    "\n",
    "**Hipóteses:**\n",
    "- **H₀**: μ = a\n",
    "- **Hₐ**: μ ≠ a\n",
    "\n",
    "**Objetivo:**  \n",
    "Verificar se o teste mantém a taxa nominal de erro Tipo I (5% de significância).\n",
    "\n",
    "### Metodologia de simulação:\n",
    "1. Definir parâmetros:\n",
    "```r\n",
    "a <- mean(x)\n",
    "n <- 30          # Tamanho amostral\n",
    "alpha <- 0.05    # Nível de significância\n",
    "nsim <- 10000    # Número de simulações"
   ]
  },
  {
   "cell_type": "code",
   "execution_count": 11,
   "id": "66613826-8b3e-4fa0-beb1-472a74fda099",
   "metadata": {},
   "outputs": [
    {
     "data": {
      "text/plain": [
       "\n",
       "\tShapiro-Wilk normality test\n",
       "\n",
       "data:  y\n",
       "W = 0.93661, p-value = 0.07372\n"
      ]
     },
     "metadata": {},
     "output_type": "display_data"
    }
   ],
   "source": [
    "shapiro.test(y)"
   ]
  },
  {
   "cell_type": "markdown",
   "id": "d7e2d598-cdec-4052-a4d6-80080c7068c5",
   "metadata": {},
   "source": [
    "Sabe-se que a média populacional de nossa variável x é igual a:"
   ]
  },
  {
   "cell_type": "code",
   "execution_count": 12,
   "id": "aa64d172-7639-4b44-95cd-30b9b7c0e6c0",
   "metadata": {},
   "outputs": [
    {
     "data": {
      "text/html": [
       "4.00125668001899"
      ],
      "text/latex": [
       "4.00125668001899"
      ],
      "text/markdown": [
       "4.00125668001899"
      ],
      "text/plain": [
       "[1] 4.001257"
      ]
     },
     "metadata": {},
     "output_type": "display_data"
    }
   ],
   "source": [
    "mean(x)"
   ]
  },
  {
   "cell_type": "markdown",
   "id": "4ac169ea-06b6-4c9f-bb24-9f1768efa59b",
   "metadata": {},
   "source": [
    "Vamos ver se o TCL vale para amostras de uma distribuição assimétrica (apenas visualmente):"
   ]
  },
  {
   "cell_type": "code",
   "execution_count": 13,
   "id": "6e96f8f7-6fed-4d73-99a9-a847e5418906",
   "metadata": {
    "scrolled": true
   },
   "outputs": [
    {
     "data": {
      "image/png": "[encoded data removed]",
      "text/plain": [
       "Plot with title \"Histogram of y\""
      ]
     },
     "metadata": {
      "image/png": {
       "height": 420,
       "width": 420
      }
     },
     "output_type": "display_data"
    },
    {
     "data": {
      "text/html": [
       "3.99672459397995"
      ],
      "text/latex": [
       "3.99672459397995"
      ],
      "text/markdown": [
       "3.99672459397995"
      ],
      "text/plain": [
       "[1] 3.996725"
      ]
     },
     "metadata": {},
     "output_type": "display_data"
    },
    {
     "data": {
      "image/png": "[encoded data removed]",
      "text/plain": [
       "Plot with title \"density(x = y)\""
      ]
     },
     "metadata": {
      "image/png": {
       "height": 420,
       "width": 420
      }
     },
     "output_type": "display_data"
    }
   ],
   "source": [
    "n=30\n",
    "y=NULL\n",
    "for(i in 1:10000){\n",
    "y[i]=mean(sample(x,n))\n",
    "}\n",
    "hist(y)\n",
    "abline(v=mean(x),pch=3,col=\"red\")\n",
    "plot(density(y))\n",
    "abline(v=mean(x),pch=3,col=\"red\")\n",
    "mean(y)"
   ]
  },
  {
   "cell_type": "markdown",
   "id": "71abbb66-9cf1-4746-b227-57199ec761ab",
   "metadata": {},
   "source": [
    "Seja `a = mean(x)`. Vamos fazer o seguinte teste paramétrico:\n",
    "\n",
    "**Hipóteses:**\n",
    "- **H₀**: μ = a\n",
    "- **Hₐ**: μ ≠ a\n",
    "\n",
    "Vamos verificar se o teste faz a conclusão correta (não rejeitar H₀ com 5% de significância). Se o teste funcionar para esta distribuição, ele rejeitará H₀ (já que ela é correta) em apenas 5% das vezes.\n",
    "\n",
    "Para isto vamos repetir o teste para \"infinitas\" amostras de tamanho 30 e, para cada amostra, vamos testar o teste acima e verificar se o p-valor é maior que o nível de significância. No final iremos contar quantas vezes a hipótese nula não foi rejeitada. A quantidade `1 - p/10000` é a proporção de vezes que a hipótese nula foi rejeitada. (Se o TCL funciona, é esperado que este número seja aproximadamente igual a α)."
   ]
  },
  {
   "cell_type": "code",
   "execution_count": 19,
   "id": "c3e174ab-2ec1-46fb-8c4e-0355d21923d9",
   "metadata": {},
   "outputs": [
    {
     "name": "stderr",
     "output_type": "stream",
     "text": [
      "Warning message in y[i] <- (sample(x, n)):\n",
      "\"number of items to replace is not a multiple of replacement length\"\n"
     ]
    },
    {
     "ename": "ERROR",
     "evalue": "Error in t.test.default(y, mu = a): not enough 'x' observations\n",
     "output_type": "error",
     "traceback": [
      "Error in t.test.default(y, mu = a): not enough 'x' observations\nTraceback:\n",
      "1. t.test(y, mu = a)",
      "2. t.test.default(y, mu = a)",
      "3. stop(\"not enough 'x' observations\")",
      "4. .handleSimpleError(function (cnd) \n . {\n .     watcher$capture_plot_and_output()\n .     cnd <- sanitize_call(cnd)\n .     watcher$push(cnd)\n .     switch(on_error, continue = invokeRestart(\"eval_continue\"), \n .         stop = invokeRestart(\"eval_stop\"), error = NULL)\n . }, \"not enough 'x' observations\", base::quote(t.test.default(y, \n .     mu = a)))"
     ]
    }
   ],
   "source": [
    "a=mean(x)\n",
    "p=0\n",
    "n=30\n",
    "y=NULL\n",
    "for(i in 1:10000) {\n",
    "    y[i]=(sample(x,n))\n",
    "    p=ifelse(t.test(y,mu=a)$p.value>0.05,1,0) + p\n",
    "}\n",
    "1-p/10000"
   ]
  },
  {
   "cell_type": "markdown",
   "id": "f3d41892-cb7c-41bf-af06-ef2db2e3448b",
   "metadata": {},
   "source": [
    "1. Quais as conclusões deste exercício?\n",
    "3. Diminua o tamanho das amostras e veja o que acontece ($n < 30$).\n",
    "4. Repita o procedimento de teste mas agora gere duas amostras assimétricas e faça um teste t pareado."
   ]
  },
  {
   "cell_type": "markdown",
   "id": "5ef6b7cf-74d6-4269-8e17-97ebfbb58d3b",
   "metadata": {},
   "source": [
    "Para avaliar se a amostra $y$ foi gerada de uma população normalmente distribuída, isto é, paramétrica, foi usado o teste de Shapiro-Wilk e a tabela de saída do RStudio é apresentada na imagem a seguir:"
   ]
  },
  {
   "cell_type": "code",
   "execution_count": null,
   "id": "9ba88c77-04d1-4e2b-a0bb-a3462c79cfc1",
   "metadata": {},
   "outputs": [],
   "source": [
    "x=rgamma(1000000,2,0.5)\n",
    "hist(x)\n",
    "plot(density(x))\n",
    "y=sample(x,30)\n",
    "hist(y)\n",
    "plot(density(y))\n",
    "abline(v=mean(x),pch=3,col=\"red\")\n",
    "shapiro.test(y)"
   ]
  },
  {
   "cell_type": "markdown",
   "id": "40fdd407-71b0-4d13-abfe-322d00c38868",
   "metadata": {},
   "source": [
    "Nota-se que o p-valor (0,007917) é menor que o nível de significância $\\alpha$ (0,05), então a hipótese nula é rejeitada e leva-se em consideração a hipótese alternativa: a amostra não foi gerada de uma distribuição normalmente distribuída.\n",
    "\n",
    "Foi executado o algoritmo para verificar, visualmente, se o Teorema Central do Limite (TCL) vale para amostras de uma distribuição assimétrica. Os resultados para esta análise estão dispostos nas duas imagens a seguir, a primeira apresenta o \\textit{console} do programa e a segunda o diagrama de densidade das 10000 amostras."
   ]
  },
  {
   "cell_type": "code",
   "execution_count": 17,
   "id": "904c3d5d-07f0-4dd8-9ef8-07cfcd28b508",
   "metadata": {},
   "outputs": [
    {
     "data": {
      "image/png": "[encoded data removed]",
      "text/plain": [
       "Plot with title \"Histogram of y\""
      ]
     },
     "metadata": {
      "image/png": {
       "height": 420,
       "width": 420
      }
     },
     "output_type": "display_data"
    },
    {
     "data": {
      "text/html": [
       "4.00000073914582"
      ],
      "text/latex": [
       "4.00000073914582"
      ],
      "text/markdown": [
       "4.00000073914582"
      ],
      "text/plain": [
       "[1] 4.000001"
      ]
     },
     "metadata": {},
     "output_type": "display_data"
    },
    {
     "data": {
      "image/png": "[encoded data removed]",
      "text/plain": [
       "Plot with title \"density(x = y)\""
      ]
     },
     "metadata": {
      "image/png": {
       "height": 420,
       "width": 420
      }
     },
     "output_type": "display_data"
    }
   ],
   "source": [
    "mean(x)\n",
    "n=30\n",
    "y=NULL\n",
    "for(i in 1:10000){\n",
    "  y[i]=mean(sample(x,n))\n",
    "}\n",
    "hist(y)\n",
    "abline(v=mean(x),pch=3,col=\"red\")\n",
    "plot(density(y))\n",
    "abline(v=mean(x),pch=3,col=\"red\")\n",
    "mean(y)"
   ]
  },
  {
   "cell_type": "markdown",
   "id": "e9772021-1145-413f-b0b1-c759aadd1ab7",
   "metadata": {},
   "source": [
    "Percebe-se no primeiro resultado que a média populacional e amostral são praticamente iguais para este número de amostras. Além disso, visualmente o diagrama de densidade confirma que o TCL vale para amostras de uma distribuição populacional assimétrica.\n",
    "\n",
    "Para reafirmar a conclusão a respeito do TCL na estatística não paramétrica, foi realizado 10000 vezes um teste de hipóteses para 10000 amostras para um $\\alpha = 0,05$. Este teste analisa a igualdade entre a média populacional e amostral, sendo a hipótese nula o caso afirmativo. \n",
    "\n",
    "Se o TCL funciona, espera-se que o número de rejeições da hipótese nula seja igual a 500, isto é, após calculada a proporção, que este número seja aproximadamente igual a $\\alpha$. A figura a seguir dispõe o resultado desta análise, juntamente com o diagrama de densidade:"
   ]
  },
  {
   "cell_type": "code",
   "execution_count": null,
   "id": "68151fb2-6970-4e3a-91a4-d3e319a7aced",
   "metadata": {},
   "outputs": [],
   "source": [
    "a=mean(x)\n",
    "p=0\n",
    "n=20\n",
    "y=NULL\n",
    "for(i in 1:10000){\n",
    "  y=sample(x,n)\n",
    "  p=ifelse(t.test(y,mu=a)$p.value>0.05,1,0)+p\n",
    "}\n",
    "1-p/10000\n",
    "plot(density(y))\n",
    "abline(v=mean(x),pch=3,col=\"red\")"
   ]
  },
  {
   "cell_type": "markdown",
   "id": "b6e3ade4-4efc-4ffd-9419-0bd9ca638d97",
   "metadata": {},
   "source": [
    "O número 0,0616 é próximo de 0,05 e é admissível concluir que, para um tamanho de amostra $N = 30$, as médias são iguais e a inferência estatística está correta. Portanto, o TCL vale para amostras de uma distribuição populacional assimétrica.\n",
    "\n",
    "---\n",
    "\n",
    "A seguir estão dispostos mais dois resultados para esta análise com tamanho de amostra $N = 20$ e $N = 60$, respectivamente:"
   ]
  },
  {
   "cell_type": "code",
   "execution_count": null,
   "id": "55356868-5828-4ceb-8762-dc3daa08bbe1",
   "metadata": {},
   "outputs": [],
   "source": [
    "a=mean(x)\n",
    "p=0\n",
    "n=20\n",
    "y=NULL\n",
    "for(i in 1:10000) {\n",
    "    y[i]=(sample(x,n))\n",
    "    p=ifelse(t.test(y,mu=a)$p.value>0.05,1,0) + p\n",
    "}\n",
    "1-p/10000\n",
    "plot(density(y))\n",
    "abline(v=mean(x), pch=3, col='red')"
   ]
  },
  {
   "cell_type": "code",
   "execution_count": null,
   "id": "fe797be0-c3cc-473e-abce-cc89fe0ff79a",
   "metadata": {},
   "outputs": [],
   "source": [
    "a=mean(x)\n",
    "p=0\n",
    "n=60\n",
    "y=NULL\n",
    "for(i in 1:10000) {\n",
    "    y[i]=(sample(x,n))\n",
    "    p=ifelse(t.test(y,mu=a)$p.value>0.05,1,0) + p\n",
    "}\n",
    "1-p/10000\n",
    "plot(density(y))\n",
    "abline(v=mean(x), pch=3, col='red')"
   ]
  },
  {
   "cell_type": "markdown",
   "id": "ae960d45-848b-43a8-9038-25b6d66ce333",
   "metadata": {},
   "source": [
    "Comparando estas novas duas respostas com a anterior ($N = 30$), conclui-se que, ao reduzir o tamanho da amostra para 20, obtém-se mais rejeição da hipótese nula, porque cada amostragem não representa uma parte significativa da distribuição real da população, afetando a média amostral. Com o tamanho da amostra igual a 60, nota-se esta afirmativa em contrapartida.\n",
    "\n",
    "---\n",
    "\n",
    "Para o teste t pareado foram geradas duas amostras assimétricas de tamanho 30 da mesma população, ou seja, dependentes conforme pré-requisito para o teste. As duas figuras a seguir apresentam os diagramas de densidade de cada amostra."
   ]
  },
  {
   "cell_type": "code",
   "execution_count": null,
   "id": "c6dd5d88-b54e-4fef-a014-4e18286a53b7",
   "metadata": {},
   "outputs": [],
   "source": [
    "a=mean(x)\n",
    "p=0\n",
    "n=30\n",
    "y1=NULL\n",
    "y2=NULL\n",
    "for(i in 1:10000){\n",
    "  y1=sample(x,n)\n",
    "  y2=sample(x,n)\n",
    "  p=ifelse(t.test(x=y1,y=y2,paired=TRUE)$p.value>0.05,1,0)+p\n",
    "}\n",
    "1-p/10000"
   ]
  },
  {
   "cell_type": "markdown",
   "id": "2c521120-6fdb-44cd-a99b-e0a3cac83652",
   "metadata": {},
   "source": [
    "Feito isso, foi realizado um teste de Shapiro-Wilk da diferença entre as variáveis das amostras e a tabela de saída é a seguinte:"
   ]
  },
  {
   "cell_type": "code",
   "execution_count": null,
   "id": "43e0c4ec-a0f5-42e6-ba6f-d5b7ac61f4ff",
   "metadata": {},
   "outputs": [],
   "source": [
    "shapiro.test(y1-y2)"
   ]
  },
  {
   "cell_type": "markdown",
   "id": "65ad7405-cecb-455a-a643-c24302ce4c87",
   "metadata": {},
   "source": [
    "Portanto, existe normalidade na distribuição desta diferença e o teste t pareado pode ser aplicado, assim segue o resultado obtido:"
   ]
  },
  {
   "cell_type": "code",
   "execution_count": null,
   "id": "104e62f6-9bb4-42aa-a992-9795432dd9ef",
   "metadata": {},
   "outputs": [],
   "source": [
    "a=mean(x)\n",
    "p=0\n",
    "n=30\n",
    "y1=NULL\n",
    "y2=NULL\n",
    "for(i in 1:10000){\n",
    "  y1=sample(x,n)\n",
    "  y2=sample(x,n)\n",
    "  p=ifelse(t.test(x=y1,y=y2,paired=TRUE)$p.value>0.05,1,0)+p\n",
    "}\n",
    "1-p/10000"
   ]
  },
  {
   "cell_type": "markdown",
   "id": "111e4c10-46dc-4f3d-8849-cfe7f661ec51",
   "metadata": {},
   "source": [
    "Vale ressaltar que a hipótese nula para este teste é que a diferença entre as médias amostrais é aproximadamente zero. Realizando este teste 10000 vezes, conclui-se que a hipótese nula foi rejeitada 0,0479\\% das vezes, ou seja, bem próximo do nível de significância 0,05 escolhido para este teste. Desta forma, tem-se um indicativo seguro de que, qualquer que seja a amostra ($N > 30$) da população, elas tendem a manter a média igual à da população."
   ]
  }
 ],
 "metadata": {
  "kernelspec": {
   "display_name": "R",
   "language": "R",
   "name": "ir"
  },
  "language_info": {
   "codemirror_mode": "r",
   "file_extension": ".r",
   "mimetype": "text/x-r-source",
   "name": "R",
   "pygments_lexer": "r",
   "version": "4.5.0"
  }
 },
 "nbformat": 4,
 "nbformat_minor": 5
}
