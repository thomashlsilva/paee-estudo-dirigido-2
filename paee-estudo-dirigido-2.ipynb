{
 "cells": [
  {
   "cell_type": "markdown",
   "id": "13362235-2139-4811-a3ce-94647f550c0f",
   "metadata": {},
   "source": [
    "# Disciplina: Planejamento e Análise Estatística de Experimentos\n",
    "\n",
    "## Estudo Dirigido 2\n",
    "\n",
    "### 1. Introdução\n",
    "\n",
    "Neste estudo dirigido vamos usar os pacotes no R:\n",
    "- ggplot2\n",
    "- ggpubr\n",
    "- tidyverse\n",
    "- broom\n",
    "- AICcmodavg\n",
    "Para instalar estes pacontes use o comando:"
   ]
  },
  {
   "cell_type": "code",
   "execution_count": 1,
   "id": "3922eaa8-9c79-4dd7-adae-7c67bd884e3e",
   "metadata": {},
   "outputs": [
    {
     "name": "stderr",
     "output_type": "stream",
     "text": [
      "Installing packages into 'C:/Users/actdigital/AppData/Local/R/win-library/4.5'\n",
      "(as 'lib' is unspecified)\n",
      "\n",
      "also installing the dependencies 'minqa', 'nloptr', 'bit', 'rbibutils', 'carData', 'abind', 'Formula', 'pbkrtest', 'quantreg', 'lme4', 'rematch', 'bit64', 'Rdpack', 'farver', 'viridisLite', 'tidyselect', 'corrplot', 'car', 'DBI', 'gargle', 'cellranger', 'ids', 'timechange', 'vroom', 'tzdb', 'progress', 'selectr', 'reformulas', 'TMB', 'RcppArmadillo', 'gtable', 'isoband', 'scales', 'ggrepel', 'ggsci', 'tidyr', 'dplyr', 'cowplot', 'ggsignif', 'gridExtra', 'polynom', 'rstatix', 'dbplyr', 'googledrive', 'googlesheets4', 'haven', 'hms', 'httr', 'lubridate', 'modelr', 'readr', 'readxl', 'reprex', 'rvest', 'generics', 'unmarked', 'VGAM'\n",
      "\n",
      "\n"
     ]
    },
    {
     "name": "stdout",
     "output_type": "stream",
     "text": [
      "\n",
      "  There is a binary version available but the source version is later:\n",
      "                binary   source needs_compilation\n",
      "RcppArmadillo 14.4.2-1 14.4.3-1              TRUE\n",
      "\n",
      "package 'minqa' successfully unpacked and MD5 sums checked\n",
      "package 'nloptr' successfully unpacked and MD5 sums checked\n",
      "package 'bit' successfully unpacked and MD5 sums checked\n",
      "package 'rbibutils' successfully unpacked and MD5 sums checked\n",
      "package 'carData' successfully unpacked and MD5 sums checked\n",
      "package 'abind' successfully unpacked and MD5 sums checked\n",
      "package 'Formula' successfully unpacked and MD5 sums checked\n",
      "package 'pbkrtest' successfully unpacked and MD5 sums checked\n",
      "package 'quantreg' successfully unpacked and MD5 sums checked\n",
      "package 'lme4' successfully unpacked and MD5 sums checked\n",
      "package 'rematch' successfully unpacked and MD5 sums checked\n",
      "package 'bit64' successfully unpacked and MD5 sums checked\n",
      "package 'Rdpack' successfully unpacked and MD5 sums checked\n",
      "package 'farver' successfully unpacked and MD5 sums checked\n",
      "package 'viridisLite' successfully unpacked and MD5 sums checked\n",
      "package 'tidyselect' successfully unpacked and MD5 sums checked\n",
      "package 'corrplot' successfully unpacked and MD5 sums checked\n",
      "package 'car' successfully unpacked and MD5 sums checked\n",
      "package 'DBI' successfully unpacked and MD5 sums checked\n",
      "package 'gargle' successfully unpacked and MD5 sums checked\n",
      "package 'cellranger' successfully unpacked and MD5 sums checked\n",
      "package 'ids' successfully unpacked and MD5 sums checked\n",
      "package 'timechange' successfully unpacked and MD5 sums checked\n",
      "package 'vroom' successfully unpacked and MD5 sums checked\n",
      "package 'tzdb' successfully unpacked and MD5 sums checked\n",
      "package 'progress' successfully unpacked and MD5 sums checked\n",
      "package 'selectr' successfully unpacked and MD5 sums checked\n",
      "package 'reformulas' successfully unpacked and MD5 sums checked\n",
      "package 'TMB' successfully unpacked and MD5 sums checked\n",
      "package 'gtable' successfully unpacked and MD5 sums checked\n",
      "package 'isoband' successfully unpacked and MD5 sums checked\n",
      "package 'scales' successfully unpacked and MD5 sums checked\n",
      "package 'ggrepel' successfully unpacked and MD5 sums checked\n",
      "package 'ggsci' successfully unpacked and MD5 sums checked\n",
      "package 'tidyr' successfully unpacked and MD5 sums checked\n",
      "package 'dplyr' successfully unpacked and MD5 sums checked\n",
      "package 'cowplot' successfully unpacked and MD5 sums checked\n",
      "package 'ggsignif' successfully unpacked and MD5 sums checked\n",
      "package 'gridExtra' successfully unpacked and MD5 sums checked\n",
      "package 'polynom' successfully unpacked and MD5 sums checked\n",
      "package 'rstatix' successfully unpacked and MD5 sums checked\n",
      "package 'dbplyr' successfully unpacked and MD5 sums checked\n",
      "package 'googledrive' successfully unpacked and MD5 sums checked\n",
      "package 'googlesheets4' successfully unpacked and MD5 sums checked\n",
      "package 'haven' successfully unpacked and MD5 sums checked\n",
      "package 'hms' successfully unpacked and MD5 sums checked\n",
      "package 'httr' successfully unpacked and MD5 sums checked\n",
      "package 'lubridate' successfully unpacked and MD5 sums checked\n",
      "package 'modelr' successfully unpacked and MD5 sums checked\n",
      "package 'readr' successfully unpacked and MD5 sums checked\n",
      "package 'readxl' successfully unpacked and MD5 sums checked\n",
      "package 'reprex' successfully unpacked and MD5 sums checked\n",
      "package 'rvest' successfully unpacked and MD5 sums checked\n",
      "package 'generics' successfully unpacked and MD5 sums checked\n",
      "package 'unmarked' successfully unpacked and MD5 sums checked\n",
      "package 'VGAM' successfully unpacked and MD5 sums checked\n",
      "package 'ggplot2' successfully unpacked and MD5 sums checked\n",
      "package 'ggpubr' successfully unpacked and MD5 sums checked\n",
      "package 'tidyverse' successfully unpacked and MD5 sums checked\n",
      "package 'broom' successfully unpacked and MD5 sums checked\n",
      "package 'AICcmodavg' successfully unpacked and MD5 sums checked\n",
      "\n",
      "The downloaded binary packages are in\n",
      "\tC:\\Users\\actdigital\\AppData\\Local\\Temp\\RtmpC8foiX\\downloaded_packages\n"
     ]
    },
    {
     "name": "stderr",
     "output_type": "stream",
     "text": [
      "installing the source package 'RcppArmadillo'\n",
      "\n",
      "\n"
     ]
    }
   ],
   "source": [
    "install.packages(c(\"ggplot2\",\"ggpubr\",\"tidyverse\",\"broom\",\"AICcmodavg\"))"
   ]
  },
  {
   "cell_type": "markdown",
   "id": "74db07aa-04e0-454c-a54f-2ef9d94a9e72",
   "metadata": {},
   "source": [
    "Carregue os pacotes usando:"
   ]
  },
  {
   "cell_type": "code",
   "execution_count": 5,
   "id": "8515cad2-9f49-4340-8de8-e0e9116b2551",
   "metadata": {},
   "outputs": [],
   "source": [
    "library(ggplot2)\n",
    "library(ggpubr)\n",
    "library(tidyverse)\n",
    "library(broom)\n",
    "library(AICcmodavg)"
   ]
  },
  {
   "cell_type": "markdown",
   "id": "26effa4b-9cd9-4c5a-8598-1d0c13924764",
   "metadata": {},
   "source": [
    "Agora vamos ler dados gerados para este exemplo.\n",
    "\n",
    "É comum que os fatores sejam lidos como variáveis quantitativas ao importar um conjunto de dados para o R. Para evitar isso, você pode usar o comando `read.csv()` para ler os dados, especificando no comando se cada uma das variáveis deve ser quantitativa (\"numeric\") ou categórico (\"factor\").\n",
    "\n",
    "Use o código a seguir, substituindo o texto do `caminho/para/seu/arquivo` pelo caminho real do seu\n",
    "arquivo:"
   ]
  },
  {
   "cell_type": "code",
   "execution_count": 6,
   "id": "071e402a-041f-42ca-a328-7b9943b8e172",
   "metadata": {},
   "outputs": [],
   "source": [
    "crop.data <- read.csv(\"C:/Users/actdigital/paee-estudo-dirigido-2/crop.data.csv\",\n",
    "                      header = TRUE, colClasses = c(\"factor\", \"factor\", \"factor\", \"numeric\"))"
   ]
  },
  {
   "cell_type": "markdown",
   "id": "b2f4f3b8-0f39-44e0-9d18-2d1eeee261e8",
   "metadata": {},
   "source": [
    "### 2. ANOVA\n",
    "\n",
    "Podemos realizar uma ANOVA em R usando a função `aov()`. Isso irá calcular a estatística do teste para ANOVA e determinar se há variação significativa entre os grupos formados pelos níveis da variável independente.\n",
    "\n",
    "#### 2.1 ANOVA a um fator\n",
    "No exemplo de ANOVA unidirecional, estamos modelando o rendimento da cultura em função do tipo de fertilizante usado. Primeiro, usaremos `aov()` para executar o modelo, depois usaremos `summary()` para imprimir o resumo do modelo."
   ]
  },
  {
   "cell_type": "code",
   "execution_count": 7,
   "id": "6a2d01e0-5cef-49a4-a53f-a399bfef2d5f",
   "metadata": {},
   "outputs": [
    {
     "data": {
      "text/plain": [
       "            Df Sum Sq Mean Sq F value Pr(>F)    \n",
       "fertilizer   2   6.07  3.0340   7.863  7e-04 ***\n",
       "Residuals   93  35.89  0.3859                   \n",
       "---\n",
       "Signif. codes:  0 '***' 0.001 '**' 0.01 '*' 0.05 '.' 0.1 ' ' 1"
      ]
     },
     "metadata": {},
     "output_type": "display_data"
    }
   ],
   "source": [
    "one.way <- aov(yield ~ fertilizer, data = crop.data)\n",
    "summary(one.way)"
   ]
  },
  {
   "cell_type": "markdown",
   "id": "ddb65c67-d07a-4ec6-bec8-c19271f32a7a",
   "metadata": {},
   "source": []
  }
 ],
 "metadata": {
  "kernelspec": {
   "display_name": "R",
   "language": "R",
   "name": "ir"
  },
  "language_info": {
   "codemirror_mode": "r",
   "file_extension": ".r",
   "mimetype": "text/x-r-source",
   "name": "R",
   "pygments_lexer": "r",
   "version": "4.5.0"
  }
 },
 "nbformat": 4,
 "nbformat_minor": 5
}
